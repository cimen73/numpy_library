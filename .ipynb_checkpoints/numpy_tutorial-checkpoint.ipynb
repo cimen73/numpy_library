{
 "cells": [
  {
   "cell_type": "code",
   "execution_count": 1,
   "id": "d251c0e3",
   "metadata": {},
   "outputs": [],
   "source": [
    "import numpy as np"
   ]
  },
  {
   "cell_type": "code",
   "execution_count": 2,
   "id": "36da9053",
   "metadata": {},
   "outputs": [
    {
     "name": "stdout",
     "output_type": "stream",
     "text": [
      "[ 1  5 10]\n"
     ]
    }
   ],
   "source": [
    "a = np.array([1,5,10])\n",
    "print(a)"
   ]
  },
  {
   "cell_type": "code",
   "execution_count": 3,
   "id": "11873512",
   "metadata": {},
   "outputs": [
    {
     "name": "stdout",
     "output_type": "stream",
     "text": [
      "[[ 1  7 20]\n",
      " [ 5  8  9]]\n"
     ]
    }
   ],
   "source": [
    "b = np.array([[1,7,20], [5, 8, 9]])\n",
    "print(b)"
   ]
  },
  {
   "cell_type": "markdown",
   "id": "754f8636",
   "metadata": {},
   "source": [
    "\n",
    "We use ndim to find out the size of the directory:"
   ]
  },
  {
   "cell_type": "code",
   "execution_count": 4,
   "id": "3afa0afa",
   "metadata": {},
   "outputs": [
    {
     "data": {
      "text/plain": [
       "2"
      ]
     },
     "execution_count": 4,
     "metadata": {},
     "output_type": "execute_result"
    }
   ],
   "source": [
    "b.ndim"
   ]
  },
  {
   "cell_type": "code",
   "execution_count": 5,
   "id": "1d7d63fc",
   "metadata": {},
   "outputs": [
    {
     "data": {
      "text/plain": [
       "1"
      ]
     },
     "execution_count": 5,
     "metadata": {},
     "output_type": "execute_result"
    }
   ],
   "source": [
    "a.ndim"
   ]
  },
  {
   "cell_type": "code",
   "execution_count": 6,
   "id": "d21f9b22",
   "metadata": {},
   "outputs": [
    {
     "data": {
      "text/plain": [
       "(2, 3)"
      ]
     },
     "execution_count": 6,
     "metadata": {},
     "output_type": "execute_result"
    }
   ],
   "source": [
    "#shape is used to find out the size of our 2 row and 3 column array:\n",
    "\n",
    "b.shape\n"
   ]
  },
  {
   "cell_type": "code",
   "execution_count": 7,
   "id": "26817607",
   "metadata": {},
   "outputs": [
    {
     "data": {
      "text/plain": [
       "dtype('int32')"
      ]
     },
     "execution_count": 7,
     "metadata": {},
     "output_type": "execute_result"
    }
   ],
   "source": [
    "a.dtype"
   ]
  },
  {
   "cell_type": "code",
   "execution_count": 8,
   "id": "65e7aee7",
   "metadata": {},
   "outputs": [
    {
     "data": {
      "text/plain": [
       "dtype('float64')"
      ]
     },
     "execution_count": 8,
     "metadata": {},
     "output_type": "execute_result"
    }
   ],
   "source": [
    "x = np.array([1.0,5.4,10.42])\n",
    "x.dtype"
   ]
  },
  {
   "cell_type": "markdown",
   "id": "89f090a7",
   "metadata": {},
   "source": [
    "We use row and column numbers to access a specific cell of the array:"
   ]
  },
  {
   "cell_type": "code",
   "execution_count": 9,
   "id": "d5901aca",
   "metadata": {},
   "outputs": [
    {
     "name": "stdout",
     "output_type": "stream",
     "text": [
      "[[ 1  7 20]\n",
      " [ 5  8  9]]\n"
     ]
    }
   ],
   "source": [
    "print(b)"
   ]
  },
  {
   "cell_type": "code",
   "execution_count": 10,
   "id": "e474cc7c",
   "metadata": {},
   "outputs": [
    {
     "data": {
      "text/plain": [
       "20"
      ]
     },
     "execution_count": 10,
     "metadata": {},
     "output_type": "execute_result"
    }
   ],
   "source": [
    "b[0,2]"
   ]
  },
  {
   "cell_type": "code",
   "execution_count": 11,
   "id": "c6fa7bfa",
   "metadata": {},
   "outputs": [
    {
     "data": {
      "text/plain": [
       "8"
      ]
     },
     "execution_count": 11,
     "metadata": {},
     "output_type": "execute_result"
    }
   ],
   "source": [
    "b[1,1]"
   ]
  },
  {
   "cell_type": "code",
   "execution_count": 12,
   "id": "3e46d028",
   "metadata": {},
   "outputs": [
    {
     "data": {
      "text/plain": [
       "array([ 1,  7, 20])"
      ]
     },
     "execution_count": 12,
     "metadata": {},
     "output_type": "execute_result"
    }
   ],
   "source": [
    "b[0]"
   ]
  },
  {
   "cell_type": "markdown",
   "id": "056baaf8",
   "metadata": {},
   "source": [
    "We use : to access the second and third elements in the first row - namely 7 and 20:"
   ]
  },
  {
   "cell_type": "code",
   "execution_count": 13,
   "id": "3c658dc2",
   "metadata": {},
   "outputs": [
    {
     "data": {
      "text/plain": [
       "array([ 7, 20])"
      ]
     },
     "execution_count": 13,
     "metadata": {},
     "output_type": "execute_result"
    }
   ],
   "source": [
    "b[0, 1:]"
   ]
  },
  {
   "cell_type": "code",
   "execution_count": 14,
   "id": "1f063b2e",
   "metadata": {},
   "outputs": [
    {
     "data": {
      "text/plain": [
       "18"
      ]
     },
     "execution_count": 14,
     "metadata": {},
     "output_type": "execute_result"
    }
   ],
   "source": [
    "b[1, 1] = 18\n",
    "b[1, 1]"
   ]
  },
  {
   "cell_type": "code",
   "execution_count": 15,
   "id": "2bdfe5ae",
   "metadata": {},
   "outputs": [
    {
     "data": {
      "text/plain": [
       "array([[ 1,  7, 20],\n",
       "       [ 5, 18,  9]])"
      ]
     },
     "execution_count": 15,
     "metadata": {},
     "output_type": "execute_result"
    }
   ],
   "source": [
    "b"
   ]
  },
  {
   "cell_type": "markdown",
   "id": "796bb310",
   "metadata": {},
   "source": [
    "<H3> Automatic array creation </H3>"
   ]
  },
  {
   "cell_type": "code",
   "execution_count": 16,
   "id": "cfdbd244",
   "metadata": {},
   "outputs": [
    {
     "data": {
      "text/plain": [
       "array([[0., 0., 0.],\n",
       "       [0., 0., 0.]])"
      ]
     },
     "execution_count": 16,
     "metadata": {},
     "output_type": "execute_result"
    }
   ],
   "source": [
    "# All zero matrix/array\n",
    "array_z = np.zeros((2,3))\n",
    "array_z"
   ]
  },
  {
   "cell_type": "code",
   "execution_count": 17,
   "id": "d0c012e0",
   "metadata": {},
   "outputs": [
    {
     "data": {
      "text/plain": [
       "array([[50, 50, 50, 50],\n",
       "       [50, 50, 50, 50],\n",
       "       [50, 50, 50, 50],\n",
       "       [50, 50, 50, 50]])"
      ]
     },
     "execution_count": 17,
     "metadata": {},
     "output_type": "execute_result"
    }
   ],
   "source": [
    "# Array with all the same value\n",
    "array1= np.full((4,4), 50)\n",
    "array1"
   ]
  },
  {
   "cell_type": "code",
   "execution_count": 18,
   "id": "3456856a",
   "metadata": {},
   "outputs": [
    {
     "data": {
      "text/plain": [
       "array([[0.7313626 , 0.0503504 , 0.79402403],\n",
       "       [0.93638925, 0.35361886, 0.76084139],\n",
       "       [0.29519808, 0.72149397, 0.80665813],\n",
       "       [0.70917101, 0.91324661, 0.96432848]])"
      ]
     },
     "execution_count": 18,
     "metadata": {},
     "output_type": "execute_result"
    }
   ],
   "source": [
    "# Random array creation\n",
    "array2 = np.random.rand(4,3)\n",
    "array2"
   ]
  },
  {
   "cell_type": "code",
   "execution_count": 19,
   "id": "0a6ddafb",
   "metadata": {},
   "outputs": [
    {
     "data": {
      "text/plain": [
       "array([[73, 31, 43, 83, 29],\n",
       "       [70, 87, 83, 24, 17],\n",
       "       [24, 68, 25, 70, 65],\n",
       "       [45, 25, 12, 66, 63],\n",
       "       [ 3, 55, 16, 20, 11]])"
      ]
     },
     "execution_count": 19,
     "metadata": {},
     "output_type": "execute_result"
    }
   ],
   "source": [
    "#automatic random int array creation\n",
    "array3 = np.random.randint(0,100,size=(5,5))\n",
    "array3"
   ]
  },
  {
   "cell_type": "markdown",
   "id": "0eb5094d",
   "metadata": {},
   "source": [
    "<H3> Be careful when copying strings!!! </H3>"
   ]
  },
  {
   "cell_type": "code",
   "execution_count": 21,
   "id": "35f2541c",
   "metadata": {},
   "outputs": [
    {
     "name": "stdout",
     "output_type": "stream",
     "text": [
      "[90  2  3]\n"
     ]
    }
   ],
   "source": [
    "\n",
    "a = np.array([1,2,3])\n",
    "b = a\n",
    "b[0] = 90\n",
    "\n",
    "print(a)"
   ]
  },
  {
   "cell_type": "code",
   "execution_count": 22,
   "id": "916d654f",
   "metadata": {},
   "outputs": [
    {
     "name": "stdout",
     "output_type": "stream",
     "text": [
      "[1 2 3]\n"
     ]
    }
   ],
   "source": [
    "# b, like a pointer, points to the same memory location as a, so the change in b! also occurs in a.\n",
    "# To avoid such situations, use the copy() function:\n",
    "a = np.array([1,2,3])\n",
    "b = a.copy()\n",
    "b[0] = 90\n",
    "\n",
    "print(a)"
   ]
  },
  {
   "cell_type": "code",
   "execution_count": 23,
   "id": "98dd2291",
   "metadata": {},
   "outputs": [
    {
     "name": "stdout",
     "output_type": "stream",
     "text": [
      "[90  2  3]\n"
     ]
    }
   ],
   "source": [
    "print(b)"
   ]
  },
  {
   "cell_type": "markdown",
   "id": "15f67a9f",
   "metadata": {},
   "source": [
    "<H3> Mathematical Operations on Arrays </H3>"
   ]
  },
  {
   "cell_type": "code",
   "execution_count": 24,
   "id": "ea8e1847",
   "metadata": {},
   "outputs": [
    {
     "name": "stdout",
     "output_type": "stream",
     "text": [
      "[1 2 3 4]\n"
     ]
    }
   ],
   "source": [
    "\n",
    "a = np.array([1,2,3,4])\n",
    "print(a)"
   ]
  },
  {
   "cell_type": "code",
   "execution_count": 25,
   "id": "731ac0ce",
   "metadata": {},
   "outputs": [
    {
     "data": {
      "text/plain": [
       "array([5, 6, 7, 8])"
      ]
     },
     "execution_count": 25,
     "metadata": {},
     "output_type": "execute_result"
    }
   ],
   "source": [
    "\n",
    "a + 4"
   ]
  },
  {
   "cell_type": "code",
   "execution_count": 26,
   "id": "be84bead",
   "metadata": {},
   "outputs": [
    {
     "data": {
      "text/plain": [
       "array([2, 4, 6, 8])"
      ]
     },
     "execution_count": 26,
     "metadata": {},
     "output_type": "execute_result"
    }
   ],
   "source": [
    "a * 2"
   ]
  },
  {
   "cell_type": "code",
   "execution_count": 27,
   "id": "cf65edad",
   "metadata": {},
   "outputs": [
    {
     "data": {
      "text/plain": [
       "array([0.5, 1. , 1.5, 2. ])"
      ]
     },
     "execution_count": 27,
     "metadata": {},
     "output_type": "execute_result"
    }
   ],
   "source": [
    "a / 2"
   ]
  },
  {
   "cell_type": "code",
   "execution_count": 28,
   "id": "e026b6bf",
   "metadata": {},
   "outputs": [
    {
     "data": {
      "text/plain": [
       "array([2, 2, 4, 4])"
      ]
     },
     "execution_count": 28,
     "metadata": {},
     "output_type": "execute_result"
    }
   ],
   "source": [
    "\n",
    "b = np.array([1,0,1,0])\n",
    "a + b"
   ]
  },
  {
   "cell_type": "code",
   "execution_count": 29,
   "id": "8ef1dfc5",
   "metadata": {},
   "outputs": [
    {
     "data": {
      "text/plain": [
       "array([ 1,  4,  9, 16], dtype=int32)"
      ]
     },
     "execution_count": 29,
     "metadata": {},
     "output_type": "execute_result"
    }
   ],
   "source": [
    "a ** 2"
   ]
  },
  {
   "cell_type": "markdown",
   "id": "59e1382e",
   "metadata": {},
   "source": [
    "\n",
    "<H3> Statistics </H3>"
   ]
  },
  {
   "cell_type": "code",
   "execution_count": 30,
   "id": "7cc08a42",
   "metadata": {},
   "outputs": [
    {
     "data": {
      "text/plain": [
       "array([[1, 2, 3],\n",
       "       [4, 5, 6]])"
      ]
     },
     "execution_count": 30,
     "metadata": {},
     "output_type": "execute_result"
    }
   ],
   "source": [
    "array4 = np.array([[1,2,3],[4,5,6]])\n",
    "array4"
   ]
  },
  {
   "cell_type": "code",
   "execution_count": 33,
   "id": "30ec3e6e",
   "metadata": {},
   "outputs": [
    {
     "data": {
      "text/plain": [
       "1"
      ]
     },
     "execution_count": 33,
     "metadata": {},
     "output_type": "execute_result"
    }
   ],
   "source": [
    "np.min(array4)"
   ]
  },
  {
   "cell_type": "code",
   "execution_count": 34,
   "id": "f1e08b03",
   "metadata": {},
   "outputs": [
    {
     "data": {
      "text/plain": [
       "6"
      ]
     },
     "execution_count": 34,
     "metadata": {},
     "output_type": "execute_result"
    }
   ],
   "source": [
    "np.max(array4)"
   ]
  },
  {
   "cell_type": "code",
   "execution_count": 35,
   "id": "6d64fada",
   "metadata": {},
   "outputs": [
    {
     "data": {
      "text/plain": [
       "21"
      ]
     },
     "execution_count": 35,
     "metadata": {},
     "output_type": "execute_result"
    }
   ],
   "source": [
    "\n",
    "np.sum(array4)"
   ]
  },
  {
   "cell_type": "markdown",
   "id": "38e4d8a1",
   "metadata": {},
   "source": [
    "<H3> Loading array from file </H3>"
   ]
  },
  {
   "cell_type": "code",
   "execution_count": 36,
   "id": "e6f56246",
   "metadata": {},
   "outputs": [
    {
     "name": "stdout",
     "output_type": "stream",
     "text": [
      "[[1 2 3 4 5 6 7]\n",
      " [8 9 7 8 9 9 7]\n",
      " [3 3 5 6 5 4 0]]\n"
     ]
    }
   ],
   "source": [
    "filedata = np.genfromtxt('example.txt', delimiter=',')\n",
    "filedata = filedata.astype('int32')\n",
    "print(filedata)"
   ]
  },
  {
   "cell_type": "code",
   "execution_count": 37,
   "id": "262cd74d",
   "metadata": {},
   "outputs": [
    {
     "data": {
      "text/plain": [
       "8"
      ]
     },
     "execution_count": 37,
     "metadata": {},
     "output_type": "execute_result"
    }
   ],
   "source": [
    "filedata[1,0]"
   ]
  }
 ],
 "metadata": {
  "kernelspec": {
   "display_name": "Python 3 (ipykernel)",
   "language": "python",
   "name": "python3"
  },
  "language_info": {
   "codemirror_mode": {
    "name": "ipython",
    "version": 3
   },
   "file_extension": ".py",
   "mimetype": "text/x-python",
   "name": "python",
   "nbconvert_exporter": "python",
   "pygments_lexer": "ipython3",
   "version": "3.9.13"
  }
 },
 "nbformat": 4,
 "nbformat_minor": 5
}
